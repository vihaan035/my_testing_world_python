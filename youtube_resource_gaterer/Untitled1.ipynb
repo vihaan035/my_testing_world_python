{
 "cells": [
  {
   "cell_type": "code",
   "execution_count": 3,
   "id": "advanced-delicious",
   "metadata": {},
   "outputs": [
    {
     "name": "stdout",
     "output_type": "stream",
     "text": [
      "https://i.ytimg.com/vi/Tz4km-_P1Es/hq720.jpg?sqp=-oaymwEZCOgCEMoBSFXyq4qpAwsIARUAAIhCGAFwAQ==&rs=AOn4CLDCMc_W0tApoUsRmZDbaXhTY2XRTg\n",
      "https://i.ytimg.com/vi/0qityXJJxe4/hq720.jpg?sqp=-oaymwEZCOgCEMoBSFXyq4qpAwsIARUAAIhCGAFwAQ==&rs=AOn4CLCYSkUuOBc7lCQUWM3C0JmBzHH7LQ\n",
      "https://i.ytimg.com/vi/R0r9hjbOEY0/hq720_live.jpg?sqp=-oaymwEZCOgCEMoBSFXyq4qpAwsIARUAAIhCGAFwAQ==&rs=AOn4CLDtucVcRWHRSOcN4jFKz4tPPiz1VA\n",
      "https://i.ytimg.com/vi/SQitTs8UwsI/hq720_live.jpg?sqp=-oaymwEZCOgCEMoBSFXyq4qpAwsIARUAAIhCGAFwAQ==&rs=AOn4CLDTZEbkqypVwFAPnBb0QwKK3kMBfQ\n",
      "WEBP\n",
      "RGB\n",
      "(360, 202)\n"
     ]
    }
   ],
   "source": [
    "from extracting_thumbnail import *\n",
    "from gui import *\n",
    "\n",
    "if __name__ == '__main__':\n",
    "    thumbnail_extractor()\n",
    "    task_gui()"
   ]
  },
  {
   "cell_type": "code",
   "execution_count": 2,
   "id": "empty-restoration",
   "metadata": {},
   "outputs": [],
   "source": [
    "#Load and show an image with Pillow\n",
    "from PIL import Image\n",
    "\n",
    "def task_gui():\n",
    "    #Load the image\n",
    "    img = Image.open('captcha1.png')\n",
    "\n",
    "    #Get basic details about the image\n",
    "    print(img.format)\n",
    "    print(img.mode)\n",
    "    print(img.size)\n",
    "\n",
    "    #show the image\n",
    "    img.show()\n",
    "\n",
    "\n",
    "\n",
    "\n",
    "# from tkinter import * \n",
    "# def task_gui():     \n",
    "#     root = Tk()      \n",
    "#     canvas1 = Canvas(root, width = 300, height = 300)      \n",
    "#     canvas1.pack()      \n",
    "#     img = PhotoImage(file=\"captcha1.png\")      \n",
    "#     canvas1.create_image(20,20, anchor=NW, image=img)      \n",
    "#     mainloop()"
   ]
  },
  {
   "cell_type": "code",
   "execution_count": 1,
   "id": "killing-tunisia",
   "metadata": {},
   "outputs": [],
   "source": [
    "from selenium import webdriver\n",
    "import time\n",
    "import urllib.request\n",
    "from selenium.webdriver.common.by import By\n",
    "from selenium.webdriver.support.ui import WebDriverWait\n",
    "from selenium.webdriver.support import expected_conditions as EC\n",
    "def thumbnail_extractor():\n",
    "    PATH = \"C:\\webdrivers\\chromedriver.exe\"\n",
    "    driver = webdriver.Chrome(PATH)\n",
    "\n",
    "    a=1\n",
    "\n",
    "    driver.get(\"https://www.youtube.com/results?search_query=Gaming\")\n",
    "    time.sleep(3)\n",
    "    thumbnails = driver.find_elements_by_class_name('yt-img-shadow')\n",
    "    for thumbnail in thumbnails:\n",
    "        if (thumbnail.get_attribute('src') != None):\n",
    "            if (int(thumbnail.get_attribute('width')) == 360):\n",
    "                print(thumbnail.get_attribute('src'))\n",
    "                src = thumbnail.get_attribute('src')\n",
    "                urllib.request.urlretrieve(src, \"captcha\"+str(a)+\".png\")\n",
    "                a+=1\n",
    "    driver.close()\n"
   ]
  },
  {
   "cell_type": "code",
   "execution_count": null,
   "id": "final-seven",
   "metadata": {},
   "outputs": [],
   "source": []
  }
 ],
 "metadata": {
  "kernelspec": {
   "display_name": "Python 3",
   "language": "python",
   "name": "python3"
  },
  "language_info": {
   "codemirror_mode": {
    "name": "ipython",
    "version": 3
   },
   "file_extension": ".py",
   "mimetype": "text/x-python",
   "name": "python",
   "nbconvert_exporter": "python",
   "pygments_lexer": "ipython3",
   "version": "3.7.9"
  }
 },
 "nbformat": 4,
 "nbformat_minor": 5
}
